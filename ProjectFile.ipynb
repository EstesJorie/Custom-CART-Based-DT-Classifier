{
 "cells": [
  {
   "cell_type": "code",
   "execution_count": 2,
   "metadata": {},
   "outputs": [],
   "source": [
    "import pandas as pd\n",
    "import matplotlib as plt\n",
    "import numpy as np\n",
    "import scipy as sp\n",
    "import seaborn as sns\n",
    "\n",
    "from sklearn.model_selection import train_test_split\n",
    "from sklearn.metrics import classification_report, accuracy_score\n",
    "from sklearn.tree import DecisionTreeClassifier\n",
    "from sklearn.preprocessing import LabelEncoder\n",
    "from sklearn.preprocessing import OneHotEncoder\n",
    "from sklearn.compose import ColumnTransformer\n"
   ]
  },
  {
   "cell_type": "code",
   "execution_count": 11,
   "metadata": {},
   "outputs": [],
   "source": [
    "irisClasses = ['sepal_length', 'sepal_width', 'petal_length', 'petal_width', 'class']\n",
    "irisFilePath = r'./DATASETS/iris/iris.data'\n",
    "\n",
    "parkinsonsClasses = [\n",
    "    \"subject#\", \"ID\",\"age\", \"test_time\",\"Jitter(%)\", \"Jitter(Abs)\", \"Jitter:RAP\",\n",
    "     \"Jitter:PPQ5\",\"Jitter:DDP\", \"Shimmer\",\"Shimmer(dB)\", \"Shimmer:APQ3\", \"Shimmer:APQ5\",\n",
    "    \"Shimmer:APQ11\",\"Shimmer:DDA\",\"NHR\",\"HNR\", \"RPDE\", \"DFA\", \"PPE\",\"motor_UPDRS\", \"total_UPDRS\", \"sex\"\n",
    "]\n",
    "parkinsonsFilePath = r'./DATASETS/parkinsons_telemonitoring/parkinsons_updrs.data'\n",
    "\n",
    "mushroomFilepath = r'./DATASETS/MushroomDataset/secondary_data.csv'\n",
    "mushroomClasses = [\n",
    "    \"cap-diameter\",\"cap-shape\",\"cap-surface\",\"cap-color\",\"does-bruise-bleed\",\n",
    "    \"gill-attachment\",\"gill-spacing\",\"gill-color\",\"stem-height\",\"stem-width\",\n",
    "    \"stem-root\",\"stem-surface\",\"stem-color\",\"veil-type\",\"veil-color\",\n",
    "    \"has-ring\",\"ring-type\",\"spore-print-color\",\"habitat\",\"season\"\n",
    "]  \n",
    "\n",
    "phiPhhishingFilePath = r'./DATASETS/phiusiil_phishing_url_dataset/PhiUSIIL_Phishing_URL_Dataset.csv'\n",
    "\n",
    "irisData = pd.read_csv(irisFilePath, names=irisClasses, on_bad_lines='skip')\n",
    "parkinsonsData = pd.read_csv(parkinsonsFilePath, names=parkinsonsClasses, on_bad_lines='skip')\n",
    "mushroomData = pd.read_csv(mushroomFilepath, names=mushroomClasses, on_bad_lines='skip', sep=';')\n",
    "phiPhhishingData = pd.read_csv(phiPhhishingFilePath, on_bad_lines='skip')\n"
   ]
  },
  {
   "cell_type": "code",
   "execution_count": 12,
   "metadata": {},
   "outputs": [
    {
     "data": {
      "application/vnd.microsoft.datawrangler.viewer.v0+json": {
       "columns": [
        {
         "name": "index",
         "rawType": "object",
         "type": "string"
        },
        {
         "name": "cap-diameter",
         "rawType": "float64",
         "type": "float"
        },
        {
         "name": "cap-shape",
         "rawType": "object",
         "type": "string"
        },
        {
         "name": "cap-surface",
         "rawType": "object",
         "type": "string"
        },
        {
         "name": "cap-color",
         "rawType": "object",
         "type": "string"
        },
        {
         "name": "does-bruise-bleed",
         "rawType": "object",
         "type": "string"
        },
        {
         "name": "gill-attachment",
         "rawType": "object",
         "type": "string"
        },
        {
         "name": "gill-spacing",
         "rawType": "object",
         "type": "unknown"
        },
        {
         "name": "gill-color",
         "rawType": "object",
         "type": "string"
        },
        {
         "name": "stem-height",
         "rawType": "float64",
         "type": "float"
        },
        {
         "name": "stem-width",
         "rawType": "float64",
         "type": "float"
        },
        {
         "name": "stem-root",
         "rawType": "object",
         "type": "string"
        },
        {
         "name": "stem-surface",
         "rawType": "object",
         "type": "string"
        },
        {
         "name": "stem-color",
         "rawType": "object",
         "type": "string"
        },
        {
         "name": "veil-type",
         "rawType": "object",
         "type": "string"
        },
        {
         "name": "veil-color",
         "rawType": "object",
         "type": "string"
        },
        {
         "name": "has-ring",
         "rawType": "object",
         "type": "string"
        },
        {
         "name": "ring-type",
         "rawType": "object",
         "type": "string"
        },
        {
         "name": "spore-print-color",
         "rawType": "object",
         "type": "unknown"
        },
        {
         "name": "habitat",
         "rawType": "object",
         "type": "string"
        },
        {
         "name": "season",
         "rawType": "object",
         "type": "string"
        }
       ],
       "conversionMethod": "pd.DataFrame",
       "ref": "948076ca-51c5-425f-aa42-123fdea1c89d",
       "rows": [
        [
         "p",
         "15.26",
         "x",
         "g",
         "o",
         "f",
         "e",
         null,
         "w",
         "16.95",
         "17.09",
         "s",
         "y",
         "w",
         "u",
         "w",
         "t",
         "g",
         null,
         "d",
         "w"
        ],
        [
         "p",
         "16.6",
         "x",
         "g",
         "o",
         "f",
         "e",
         null,
         "w",
         "17.99",
         "18.19",
         "s",
         "y",
         "w",
         "u",
         "w",
         "t",
         "g",
         null,
         "d",
         "u"
        ],
        [
         "p",
         "14.07",
         "x",
         "g",
         "o",
         "f",
         "e",
         null,
         "w",
         "17.8",
         "17.74",
         "s",
         "y",
         "w",
         "u",
         "w",
         "t",
         "g",
         null,
         "d",
         "w"
        ],
        [
         "p",
         "14.17",
         "f",
         "h",
         "e",
         "f",
         "e",
         null,
         "w",
         "15.77",
         "15.98",
         "s",
         "y",
         "w",
         "u",
         "w",
         "t",
         "p",
         null,
         "d",
         "w"
        ],
        [
         "p",
         "14.64",
         "x",
         "h",
         "o",
         "f",
         "e",
         null,
         "w",
         "16.53",
         "17.2",
         "s",
         "y",
         "w",
         "u",
         "w",
         "t",
         "p",
         null,
         "d",
         "w"
        ]
       ],
       "shape": {
        "columns": 20,
        "rows": 5
       }
      },
      "text/html": [
       "<div>\n",
       "<style scoped>\n",
       "    .dataframe tbody tr th:only-of-type {\n",
       "        vertical-align: middle;\n",
       "    }\n",
       "\n",
       "    .dataframe tbody tr th {\n",
       "        vertical-align: top;\n",
       "    }\n",
       "\n",
       "    .dataframe thead th {\n",
       "        text-align: right;\n",
       "    }\n",
       "</style>\n",
       "<table border=\"1\" class=\"dataframe\">\n",
       "  <thead>\n",
       "    <tr style=\"text-align: right;\">\n",
       "      <th></th>\n",
       "      <th>cap-diameter</th>\n",
       "      <th>cap-shape</th>\n",
       "      <th>cap-surface</th>\n",
       "      <th>cap-color</th>\n",
       "      <th>does-bruise-bleed</th>\n",
       "      <th>gill-attachment</th>\n",
       "      <th>gill-spacing</th>\n",
       "      <th>gill-color</th>\n",
       "      <th>stem-height</th>\n",
       "      <th>stem-width</th>\n",
       "      <th>stem-root</th>\n",
       "      <th>stem-surface</th>\n",
       "      <th>stem-color</th>\n",
       "      <th>veil-type</th>\n",
       "      <th>veil-color</th>\n",
       "      <th>has-ring</th>\n",
       "      <th>ring-type</th>\n",
       "      <th>spore-print-color</th>\n",
       "      <th>habitat</th>\n",
       "      <th>season</th>\n",
       "    </tr>\n",
       "  </thead>\n",
       "  <tbody>\n",
       "    <tr>\n",
       "      <th>p</th>\n",
       "      <td>15.26</td>\n",
       "      <td>x</td>\n",
       "      <td>g</td>\n",
       "      <td>o</td>\n",
       "      <td>f</td>\n",
       "      <td>e</td>\n",
       "      <td>NaN</td>\n",
       "      <td>w</td>\n",
       "      <td>16.95</td>\n",
       "      <td>17.09</td>\n",
       "      <td>s</td>\n",
       "      <td>y</td>\n",
       "      <td>w</td>\n",
       "      <td>u</td>\n",
       "      <td>w</td>\n",
       "      <td>t</td>\n",
       "      <td>g</td>\n",
       "      <td>NaN</td>\n",
       "      <td>d</td>\n",
       "      <td>w</td>\n",
       "    </tr>\n",
       "    <tr>\n",
       "      <th>p</th>\n",
       "      <td>16.60</td>\n",
       "      <td>x</td>\n",
       "      <td>g</td>\n",
       "      <td>o</td>\n",
       "      <td>f</td>\n",
       "      <td>e</td>\n",
       "      <td>NaN</td>\n",
       "      <td>w</td>\n",
       "      <td>17.99</td>\n",
       "      <td>18.19</td>\n",
       "      <td>s</td>\n",
       "      <td>y</td>\n",
       "      <td>w</td>\n",
       "      <td>u</td>\n",
       "      <td>w</td>\n",
       "      <td>t</td>\n",
       "      <td>g</td>\n",
       "      <td>NaN</td>\n",
       "      <td>d</td>\n",
       "      <td>u</td>\n",
       "    </tr>\n",
       "    <tr>\n",
       "      <th>p</th>\n",
       "      <td>14.07</td>\n",
       "      <td>x</td>\n",
       "      <td>g</td>\n",
       "      <td>o</td>\n",
       "      <td>f</td>\n",
       "      <td>e</td>\n",
       "      <td>NaN</td>\n",
       "      <td>w</td>\n",
       "      <td>17.80</td>\n",
       "      <td>17.74</td>\n",
       "      <td>s</td>\n",
       "      <td>y</td>\n",
       "      <td>w</td>\n",
       "      <td>u</td>\n",
       "      <td>w</td>\n",
       "      <td>t</td>\n",
       "      <td>g</td>\n",
       "      <td>NaN</td>\n",
       "      <td>d</td>\n",
       "      <td>w</td>\n",
       "    </tr>\n",
       "    <tr>\n",
       "      <th>p</th>\n",
       "      <td>14.17</td>\n",
       "      <td>f</td>\n",
       "      <td>h</td>\n",
       "      <td>e</td>\n",
       "      <td>f</td>\n",
       "      <td>e</td>\n",
       "      <td>NaN</td>\n",
       "      <td>w</td>\n",
       "      <td>15.77</td>\n",
       "      <td>15.98</td>\n",
       "      <td>s</td>\n",
       "      <td>y</td>\n",
       "      <td>w</td>\n",
       "      <td>u</td>\n",
       "      <td>w</td>\n",
       "      <td>t</td>\n",
       "      <td>p</td>\n",
       "      <td>NaN</td>\n",
       "      <td>d</td>\n",
       "      <td>w</td>\n",
       "    </tr>\n",
       "    <tr>\n",
       "      <th>p</th>\n",
       "      <td>14.64</td>\n",
       "      <td>x</td>\n",
       "      <td>h</td>\n",
       "      <td>o</td>\n",
       "      <td>f</td>\n",
       "      <td>e</td>\n",
       "      <td>NaN</td>\n",
       "      <td>w</td>\n",
       "      <td>16.53</td>\n",
       "      <td>17.20</td>\n",
       "      <td>s</td>\n",
       "      <td>y</td>\n",
       "      <td>w</td>\n",
       "      <td>u</td>\n",
       "      <td>w</td>\n",
       "      <td>t</td>\n",
       "      <td>p</td>\n",
       "      <td>NaN</td>\n",
       "      <td>d</td>\n",
       "      <td>w</td>\n",
       "    </tr>\n",
       "  </tbody>\n",
       "</table>\n",
       "</div>"
      ],
      "text/plain": [
       "   cap-diameter cap-shape cap-surface cap-color does-bruise-bleed  \\\n",
       "p         15.26         x           g         o                 f   \n",
       "p         16.60         x           g         o                 f   \n",
       "p         14.07         x           g         o                 f   \n",
       "p         14.17         f           h         e                 f   \n",
       "p         14.64         x           h         o                 f   \n",
       "\n",
       "  gill-attachment gill-spacing gill-color  stem-height  stem-width stem-root  \\\n",
       "p               e          NaN          w        16.95       17.09         s   \n",
       "p               e          NaN          w        17.99       18.19         s   \n",
       "p               e          NaN          w        17.80       17.74         s   \n",
       "p               e          NaN          w        15.77       15.98         s   \n",
       "p               e          NaN          w        16.53       17.20         s   \n",
       "\n",
       "  stem-surface stem-color veil-type veil-color has-ring ring-type  \\\n",
       "p            y          w         u          w        t         g   \n",
       "p            y          w         u          w        t         g   \n",
       "p            y          w         u          w        t         g   \n",
       "p            y          w         u          w        t         p   \n",
       "p            y          w         u          w        t         p   \n",
       "\n",
       "  spore-print-color habitat season  \n",
       "p               NaN       d      w  \n",
       "p               NaN       d      u  \n",
       "p               NaN       d      w  \n",
       "p               NaN       d      w  \n",
       "p               NaN       d      w  "
      ]
     },
     "execution_count": 12,
     "metadata": {},
     "output_type": "execute_result"
    }
   ],
   "source": [
    "mushroomData.head()"
   ]
  },
  {
   "cell_type": "code",
   "execution_count": 8,
   "metadata": {},
   "outputs": [
    {
     "data": {
      "text/plain": [
       "Index(['FILENAME', 'URL', 'URLLength', 'Domain', 'DomainLength', 'IsDomainIP',\n",
       "       'TLD', 'URLSimilarityIndex', 'CharContinuationRate',\n",
       "       'TLDLegitimateProb', 'URLCharProb', 'TLDLength', 'NoOfSubDomain',\n",
       "       'HasObfuscation', 'NoOfObfuscatedChar', 'ObfuscationRatio',\n",
       "       'NoOfLettersInURL', 'LetterRatioInURL', 'NoOfDegitsInURL',\n",
       "       'DegitRatioInURL', 'NoOfEqualsInURL', 'NoOfQMarkInURL',\n",
       "       'NoOfAmpersandInURL', 'NoOfOtherSpecialCharsInURL',\n",
       "       'SpacialCharRatioInURL', 'IsHTTPS', 'LineOfCode', 'LargestLineLength',\n",
       "       'HasTitle', 'Title', 'DomainTitleMatchScore', 'URLTitleMatchScore',\n",
       "       'HasFavicon', 'Robots', 'IsResponsive', 'NoOfURLRedirect',\n",
       "       'NoOfSelfRedirect', 'HasDescription', 'NoOfPopup', 'NoOfiFrame',\n",
       "       'HasExternalFormSubmit', 'HasSocialNet', 'HasSubmitButton',\n",
       "       'HasHiddenFields', 'HasPasswordField', 'Bank', 'Pay', 'Crypto',\n",
       "       'HasCopyrightInfo', 'NoOfImage', 'NoOfCSS', 'NoOfJS', 'NoOfSelfRef',\n",
       "       'NoOfEmptyRef', 'NoOfExternalRef', 'label'],\n",
       "      dtype='object')"
      ]
     },
     "execution_count": 8,
     "metadata": {},
     "output_type": "execute_result"
    }
   ],
   "source": [
    "phiPhhishingData.keys()"
   ]
  },
  {
   "cell_type": "markdown",
   "metadata": {},
   "source": [
    "# Section One: IRIS Data"
   ]
  },
  {
   "cell_type": "code",
   "execution_count": null,
   "metadata": {},
   "outputs": [],
   "source": [
    "print(f'''Unique Cols of Iris Data: {list(set(irisData))}''')"
   ]
  },
  {
   "cell_type": "code",
   "execution_count": null,
   "metadata": {},
   "outputs": [],
   "source": [
    "X = irisData.iloc[:, :-1].values\n",
    "Y = irisData.iloc[:, -1].values\n",
    "X_train, X_test, Y_train, Y_test = train_test_split(X, Y, test_size=0.4, random_state=36827814)"
   ]
  },
  {
   "cell_type": "code",
   "execution_count": null,
   "metadata": {},
   "outputs": [],
   "source": [
    "irisClassifier = DecisionTreeClassifier(min_samples_split=4, max_depth=10)\n",
    "timeTaken, memoryUsed = trackTimeMemory(irisClassifier, X_train, Y_train, X_test, Y_test)\n",
    "print(f\"Training Time: {timeTaken:.4f} seconds\")\n",
    "print(f\"Memory Usage: {memoryUsed:.4f} MB\")"
   ]
  },
  {
   "cell_type": "code",
   "execution_count": null,
   "metadata": {},
   "outputs": [],
   "source": [
    "Y_pred = irisClassifier.predict(X_test)\n",
    "Accuracy = accuracy_score(Y_test, Y_pred)\n",
    "classReport = classification_report(Y_test, Y_pred, output_dict=True)\n",
    "for label, metrics in classReport.items():\n",
    "    if label not in ['accuracy', 'macro avg', 'weighted avg']:\n",
    "        print(f\"Class: {label}\")\n",
    "        for metric, value in metrics.items():\n",
    "            print(f\"  {metric}: {value:.4f}\")\n",
    "    else:\n",
    "        print(f\"{label.capitalize()}:\")\n",
    "        if isinstance(metrics, dict):\n",
    "            for metric, value in metrics.items():\n",
    "                print(f\"  {metric}: {value:.4f}\")\n",
    "        else:\n",
    "            print(f\"  {metrics:.4f}\")"
   ]
  },
  {
   "cell_type": "code",
   "execution_count": null,
   "metadata": {},
   "outputs": [],
   "source": [
    "data = {\n",
    "    'min_samples_split': 4,  \n",
    "    'max_depth': 10,\n",
    "    'time_taken': timeTaken,\n",
    "    'memory_used': memoryUsed,\n",
    "    'accuracy': Accuracy,\n",
    "    'class_report': classReport\n",
    "}\n",
    "\n",
    "saveToCSV('irisClassifier.csv', data)"
   ]
  },
  {
   "cell_type": "code",
   "execution_count": null,
   "metadata": {},
   "outputs": [],
   "source": [
    "irisSK = DecisionTreeClassifier(min_samples_split=4, max_depth=10, random_state=36827814)\n",
    "timeTaken, memoryUsed = trackTimeMemory(irisSK, X_train, Y_train, X_test, Y_test)\n",
    "print(f\"Training Time: {timeTaken:.4f} seconds\")\n",
    "print(f\"Memory Usage: {memoryUsed:.4f} MB\")\n",
    "\n",
    "Y_pred = irisSK.predict(X_test)\n",
    "Accuracy = accuracy_score(Y_test, Y_pred)\n",
    "classReport = classification_report(Y_test, Y_pred, output_dict=True)\n",
    "for label, metrics in classReport.items():\n",
    "    if label not in ['accuracy', 'macro avg', 'weighted avg']:\n",
    "        print(f\"Class: {label}\")\n",
    "        for metric, value in metrics.items():\n",
    "            print(f\"  {metric}: {value:.4f}\")\n",
    "    else:\n",
    "        print(f\"{label.capitalize()}:\")\n",
    "        if isinstance(metrics, dict):\n",
    "            for metric, value in metrics.items():\n",
    "                print(f\"  {metric}: {value:.4f}\")\n",
    "        else:\n",
    "            print(f\"  {metrics:.4f}\")"
   ]
  },
  {
   "cell_type": "code",
   "execution_count": null,
   "metadata": {},
   "outputs": [],
   "source": [
    "data = {\n",
    "    'min_samples_split': 4,  \n",
    "    'max_depth': 10,\n",
    "    'time_taken': timeTaken,\n",
    "    'memory_used': memoryUsed,\n",
    "    'accuracy': Accuracy,\n",
    "    'class_report': classReport\n",
    "}\n",
    "\n",
    "saveToCSV('irisSKLearn.csv', data)"
   ]
  }
 ],
 "metadata": {
  "kernelspec": {
   "display_name": "base",
   "language": "python",
   "name": "python3"
  },
  "language_info": {
   "codemirror_mode": {
    "name": "ipython",
    "version": 3
   },
   "file_extension": ".py",
   "mimetype": "text/x-python",
   "name": "python",
   "nbconvert_exporter": "python",
   "pygments_lexer": "ipython3",
   "version": "3.12.8"
  }
 },
 "nbformat": 4,
 "nbformat_minor": 2
}
